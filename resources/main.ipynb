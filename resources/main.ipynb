{
 "cells": [
  {
   "cell_type": "code",
   "execution_count": 1,
   "metadata": {},
   "outputs": [],
   "source": [
    "import javalang\n",
    "import os\n",
    "import pandas as pd\n",
    "import time"
   ]
  },
  {
   "cell_type": "code",
   "execution_count": 2,
   "metadata": {},
   "outputs": [],
   "source": [
    "d={'class_name':[], 'methods_num':[]}\n",
    "dataframe= pd.DataFrame(data=d)"
   ]
  },
  {
   "cell_type": "code",
   "execution_count": 3,
   "metadata": {},
   "outputs": [
    {
     "name": "stdout",
     "output_type": "stream",
     "text": [
      "time of execution:  14.088655233383179  seconds\n"
     ]
    }
   ],
   "source": [
    "start=time.time()\n",
    "for root, dirs, files in os.walk(\".\", topdown=False):\n",
    "    \n",
    "    for name in files:\n",
    "      \n",
    "      if(name.endswith(\".java\")):\n",
    "        \n",
    "        nome=os.path.join(root, name)\n",
    "        data = open(nome).read()\n",
    "        tree_tmp=javalang.parse.parse(data)\n",
    "        \n",
    "        for klass in tree_tmp.types:\n",
    "            if isinstance(klass, javalang.tree.ClassDeclaration) and klass.name is not d['class_name']:\n",
    "                name_class=klass.name\n",
    "                \n",
    "                d['class_name'].append(name_class)\n",
    "                d['methods_num'].append(len(klass.methods))\n",
    "print(\"time of execution: \", time.time()-start, \" seconds\")"
   ]
  },
  {
   "cell_type": "code",
   "execution_count": 4,
   "metadata": {},
   "outputs": [
    {
     "name": "stdout",
     "output_type": "stream",
     "text": [
      "                  class_name  methods_num\n",
      "0        HTMLAreaElementImpl           16\n",
      "1      HTMLLegendElementImpl            4\n",
      "2    HTMLFieldSetElementImpl            0\n",
      "3         HTMLModElementImpl            4\n",
      "4         HTMLMapElementImpl            4\n",
      "..                       ...          ...\n",
      "556     WMLAnchorElementImpl            8\n",
      "557      WMLTimerElementImpl            8\n",
      "558       WMLHeadElementImpl            4\n",
      "559          WMLBElementImpl            6\n",
      "560     WMLAccessElementImpl            8\n",
      "\n",
      "[561 rows x 2 columns]\n",
      "mean of methods=  12.035650623885918\n",
      "std of methods=  15.941594683379295\n"
     ]
    }
   ],
   "source": [
    "dataframe=pd.DataFrame(d)\n",
    "print(dataframe)\n",
    "mean_num_methods=dataframe['methods_num'].mean()\n",
    "std_num_methods=dataframe['methods_num'].std()\n",
    "print(\"mean of methods= \", dataframe['methods_num'].mean())\n",
    "print(\"std of methods= \", dataframe['methods_num'].std())\n",
    "\n",
    "names_god=dataframe.loc[dataframe['methods_num']>(mean_num_methods+6*(std_num_methods))]\n",
    "\n",
    "#print(names)\n"
   ]
  },
  {
   "cell_type": "code",
   "execution_count": 5,
   "metadata": {},
   "outputs": [
    {
     "name": "stdout",
     "output_type": "stream",
     "text": [
      "the God classes are: \n",
      "XSDHandler\n",
      "XIncludeHandler\n",
      "CoreDocumentImpl\n"
     ]
    }
   ],
   "source": [
    "print(\"the God classes are: \")\n",
    "for i in names_god[\"class_name\"]:\n",
    "    print(i, end='\\n')\n"
   ]
  }
 ],
 "metadata": {
  "interpreter": {
   "hash": "aee8b7b246df8f9039afb4144a1f6fd8d2ca17a180786b69acc140d282b71a49"
  },
  "kernelspec": {
   "display_name": "Python 3.10.2 64-bit",
   "language": "python",
   "name": "python3"
  },
  "language_info": {
   "codemirror_mode": {
    "name": "ipython",
    "version": 3
   },
   "file_extension": ".py",
   "mimetype": "text/x-python",
   "name": "python",
   "nbconvert_exporter": "python",
   "pygments_lexer": "ipython3",
   "version": "3.10.2"
  },
  "orig_nbformat": 4
 },
 "nbformat": 4,
 "nbformat_minor": 2
}
