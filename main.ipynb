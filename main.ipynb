{
 "cells": [
  {
   "cell_type": "code",
   "execution_count": 2,
   "metadata": {},
   "outputs": [],
   "source": [
    "import javalang\n",
    "import os\n",
    "import pandas as pd\n",
    "import time"
   ]
  },
  {
   "cell_type": "code",
   "execution_count": 3,
   "metadata": {},
   "outputs": [],
   "source": [
    "d={'class_name':[], 'methods_num':[]}\n",
    "dataframe= pd.DataFrame(data=d)"
   ]
  },
  {
   "cell_type": "code",
   "execution_count": 4,
   "metadata": {},
   "outputs": [
    {
     "name": "stdout",
     "output_type": "stream",
     "text": [
      "time of execution:  11.180932760238647  seconds\n"
     ]
    }
   ],
   "source": [
    "start=time.time()\n",
    "import numpy as np\n",
    "array_of_paths={'name':[], 'path':[], 'node':[]}\n",
    "for root, dirs, files in os.walk(\".\", topdown=False):\n",
    "    \n",
    "    for name in files:\n",
    "      \n",
    "      if(name.endswith(\".java\")):\n",
    "        \n",
    "        nome=os.path.join(root, name)\n",
    "        \n",
    "        data = open(nome).read()\n",
    "        tree_tmp=javalang.parse.parse(data)\n",
    "        \n",
    "        for klass in tree_tmp.types:\n",
    "            if isinstance(klass, javalang.tree.ClassDeclaration) and klass.name is not d['class_name']:\n",
    "                name_class=klass.name\n",
    "                array_of_paths['name'].append(name_class)\n",
    "                array_of_paths['path'].append(nome)\n",
    "                array_of_paths['node'].append(klass)\n",
    "                d['class_name'].append(name_class)\n",
    "                d['methods_num'].append(len(klass.methods))\n",
    "print(\"time of execution: \", time.time()-start, \" seconds\")"
   ]
  },
  {
   "cell_type": "code",
   "execution_count": 5,
   "metadata": {},
   "outputs": [
    {
     "name": "stdout",
     "output_type": "stream",
     "text": [
      "                  class_name  methods_num\n",
      "0        HTMLAreaElementImpl           16\n",
      "1      HTMLLegendElementImpl            4\n",
      "2    HTMLFieldSetElementImpl            0\n",
      "3         HTMLModElementImpl            4\n",
      "4         HTMLMapElementImpl            4\n",
      "..                       ...          ...\n",
      "556     WMLAnchorElementImpl            8\n",
      "557      WMLTimerElementImpl            8\n",
      "558       WMLHeadElementImpl            4\n",
      "559          WMLBElementImpl            6\n",
      "560     WMLAccessElementImpl            8\n",
      "\n",
      "[561 rows x 2 columns]\n",
      "mean of methods=  12.035650623885918\n",
      "std of methods=  15.941594683379295\n"
     ]
    }
   ],
   "source": [
    "dataframe=pd.DataFrame(d)\n",
    "print(dataframe)\n",
    "mean_num_methods=dataframe['methods_num'].mean()\n",
    "std_num_methods=dataframe['methods_num'].std()\n",
    "print(\"mean of methods= \", dataframe['methods_num'].mean())\n",
    "print(\"std of methods= \", dataframe['methods_num'].std())\n",
    "\n",
    "names_god=dataframe.loc[dataframe['methods_num']>(mean_num_methods+6*(std_num_methods))]\n",
    "\n",
    "#print(names)\n"
   ]
  },
  {
   "cell_type": "code",
   "execution_count": 6,
   "metadata": {},
   "outputs": [
    {
     "name": "stdout",
     "output_type": "stream",
     "text": [
      "the God classes are: \n",
      "XSDHandler\n",
      "XIncludeHandler\n",
      "CoreDocumentImpl\n"
     ]
    }
   ],
   "source": [
    "print(\"the God classes are: \")\n",
    "for i in names_god[\"class_name\"]:\n",
    "    print(i, end='\\n')\n",
    "\n",
    "\n"
   ]
  },
  {
   "cell_type": "code",
   "execution_count": 7,
   "metadata": {},
   "outputs": [
    {
     "name": "stdout",
     "output_type": "stream",
     "text": [
      "                 name                                               path  \\\n",
      "128        XSDHandler  ./resources/xerces2-j-src/org/apache/xerces/im...   \n",
      "307   XIncludeHandler  ./resources/xerces2-j-src/org/apache/xerces/xi...   \n",
      "452  CoreDocumentImpl  ./resources/xerces2-j-src/org/apache/xerces/do...   \n",
      "\n",
      "                                                  node  \n",
      "128  ClassDeclaration(annotations=[], body=[FieldDe...  \n",
      "307  ClassDeclaration(annotations=[], body=[FieldDe...  \n",
      "452  ClassDeclaration(annotations=[], body=[FieldDe...  \n"
     ]
    }
   ],
   "source": [
    "god_class_names=pd.DataFrame(data=array_of_paths)\n",
    "#print(god_class_names['name'])\n",
    "#print(names_god, end='\\n******************')\n",
    "god_class_names_final=god_class_names.loc[god_class_names['name'].isin(names_god['class_name'])]\n",
    "\n",
    "print(god_class_names_final)\n"
   ]
  },
  {
   "cell_type": "code",
   "execution_count": 8,
   "metadata": {},
   "outputs": [
    {
     "name": "stdout",
     "output_type": "stream",
     "text": [
      "<class 'pandas.core.frame.DataFrame'>\n",
      "Index: 166 entries, 0 to removeIdentifier\n",
      "Columns: 180 entries, getOwnerDocument to 68\n",
      "dtypes: float64(180)\n",
      "memory usage: 238.8+ KB\n",
      "None\n",
      "getOwnerDocument    0.0\n",
      "getNodeType         0.0\n",
      "getNodeName         0.0\n",
      "cloneNode           0.0\n",
      "insertBefore        0.0\n",
      "                   ... \n",
      "3                   NaN\n",
      "63                  NaN\n",
      "83                  NaN\n",
      "67                  NaN\n",
      "68                  NaN\n",
      "Length: 180, dtype: float64\n"
     ]
    },
    {
     "name": "stderr",
     "output_type": "stream",
     "text": [
      "/var/folders/4w/9ln2nw453jxggvcfqdqdkclw0000gn/T/ipykernel_14312/620149150.py:47: VisibleDeprecationWarning: Creating an ndarray from ragged nested sequences (which is a list-or-tuple of lists-or-tuples-or ndarrays with different lengths or shapes) is deprecated. If you meant to do this, you must specify 'dtype=object' when creating the ndarray.\n",
      "  columns=np.asarray(((get_fields(java_god_class)), get_methods(java_god_class)))\n"
     ]
    }
   ],
   "source": [
    "\n",
    "def get_methods(java_class_):\n",
    "    array_of_methods=[]\n",
    "    for i in java_class_.methods:\n",
    "        array_of_methods.append(i.name)\n",
    "    return (array_of_methods)\n",
    "\n",
    "def get_fields(java_class_):\n",
    "    array_of_fields=[]\n",
    "    for i in java_class_.fields:\n",
    "        for k in i.declarators:\n",
    "            #print(k)\n",
    "            if k.name not in array_of_fields:\n",
    "                array_of_fields.append(k.name)\n",
    "        \n",
    "    return (array_of_fields)\n",
    "\n",
    "def get_fields_accessed_by_method(method, fields):\n",
    "    #print(method)\n",
    "    tree=method\n",
    "    array_of_fields_of_this_method=[]\n",
    "    for i, node in tree.filter(javalang.tree.MemberReference):\n",
    "        #print(node.member)\n",
    "        if node.member not in fields and node.member not in array_of_fields_of_this_method:\n",
    "            array_of_fields_of_this_method.append(node.member)\n",
    "    return array_of_fields_of_this_method\n",
    "\n",
    "\n",
    "\n",
    "def get_methods_accessed_by_method(method, methods):\n",
    "    tree=method\n",
    "    array_of_methods_of_this_method=[]\n",
    "    for i, node in tree.filter(javalang.tree.MethodInvocation):\n",
    "        #print(node.member)\n",
    "        if( node.member in methods and node.member !=method.name):\n",
    "            array_of_methods_of_this_method.append(node.member)\n",
    "        #if node.member not in fields and node.member not in array_of_fields_of_this_method:\n",
    "        #    array_of_fields_of_this_method.append(node.member)\n",
    "    return array_of_methods_of_this_method\n",
    "\n",
    "java_god_class=god_class_names_final['node'].values[2]\n",
    "#print(get_methods(java_god_class))\n",
    "#print(god_class_names_final['path'].values[0])\n",
    "#print(java_god_class.fields)\n",
    "#print(get_fields(java_god_class))\n",
    "#print(len(get_fields(java_god_class)))\n",
    "\n",
    "columns=np.asarray(((get_fields(java_god_class)), get_methods(java_god_class)))\n",
    "#print(columns)\n",
    "frame_final={}\n",
    "all_methods=get_methods(java_god_class)\n",
    "all_fields=get_fields(java_god_class)\n",
    "\n",
    "for i in all_methods:\n",
    "    frame_final[i]=np.int64(np.zeros(len(all_methods)))\n",
    "for i in all_fields:\n",
    "    frame_final[i]=np.int64(np.zeros(len(all_methods)))\n",
    "frame_final=pd.DataFrame(frame_final)\n",
    "\n",
    "for i in (java_god_class.methods):\n",
    "   \n",
    "    fields_accessed_by_method=get_fields_accessed_by_method(i, get_fields(java_god_class))\n",
    "    methods_accessed_by_method=get_methods_accessed_by_method(i, get_methods(java_god_class))\n",
    "    row=0\n",
    "    for n in frame_final.columns:\n",
    "        #print(n)\n",
    "        if(n in fields_accessed_by_method):\n",
    "            frame_final.at[n, row] = 1\n",
    "        if(n in methods_accessed_by_method):\n",
    "            frame_final.at[n, row]=1\n",
    "        row+=1\n",
    "\n",
    "        \n",
    "print(frame_final.info())\n",
    "print(frame_final.std())\n",
    "frame_final.to_csv(\"./\"+java_god_class.name + \".csv\")\n",
    "\n",
    "\n",
    "\n",
    "\n",
    "    \n",
    "        \n",
    "\n",
    "#print(frame_final)\n",
    "\n",
    "\n"
   ]
  }
 ],
 "metadata": {
  "interpreter": {
   "hash": "aee8b7b246df8f9039afb4144a1f6fd8d2ca17a180786b69acc140d282b71a49"
  },
  "kernelspec": {
   "display_name": "Python 3.10.2 64-bit",
   "language": "python",
   "name": "python3"
  },
  "language_info": {
   "codemirror_mode": {
    "name": "ipython",
    "version": 3
   },
   "file_extension": ".py",
   "mimetype": "text/x-python",
   "name": "python",
   "nbconvert_exporter": "python",
   "pygments_lexer": "ipython3",
   "version": "3.10.2"
  },
  "orig_nbformat": 4
 },
 "nbformat": 4,
 "nbformat_minor": 2
}
